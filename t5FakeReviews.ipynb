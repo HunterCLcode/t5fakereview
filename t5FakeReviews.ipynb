{
  "nbformat": 4,
  "nbformat_minor": 0,
  "metadata": {
    "colab": {
      "name": "t5FakeReviews.ipynb",
      "provenance": [],
      "collapsed_sections": [],
      "toc_visible": true,
      "mount_file_id": "1zxMq89qlim0wb_amxKYjIu7dpvDaX7Ei",
      "authorship_tag": "ABX9TyPuP6Rgdz2lHnduLo+5T+h7",
      "include_colab_link": true
    },
    "kernelspec": {
      "name": "python3",
      "display_name": "Python 3"
    },
    "language_info": {
      "name": "python"
    },
    "accelerator": "GPU"
  },
  "cells": [
    {
      "cell_type": "markdown",
      "metadata": {
        "id": "view-in-github",
        "colab_type": "text"
      },
      "source": [
        "<a href=\"https://colab.research.google.com/github/HunterCLcode/t5fakereview/blob/main/t5FakeReviews.ipynb\" target=\"_parent\"><img src=\"https://colab.research.google.com/assets/colab-badge.svg\" alt=\"Open In Colab\"/></a>"
      ]
    },
    {
      "cell_type": "markdown",
      "source": [
        "The goal of this t5FakeReviews is creating Fake Reviews from just the product name or category or both."
      ],
      "metadata": {
        "id": "rc3M6mgSqph6"
      }
    },
    {
      "cell_type": "markdown",
      "source": [
        "Imports & Version Control"
      ],
      "metadata": {
        "id": "JstcscFIQKoa"
      }
    },
    {
      "cell_type": "code",
      "execution_count": null,
      "metadata": {
        "id": "fPEFVZO6qhTg"
      },
      "outputs": [],
      "source": [
        "from transformers import T5Tokenizer, T5ForConditionalGeneration\n",
        "import pandas as pd"
      ]
    },
    {
      "cell_type": "markdown",
      "source": [
        "Mount Drive"
      ],
      "metadata": {
        "id": "g4E2NhqA6pol"
      }
    },
    {
      "cell_type": "code",
      "source": [
        "# Mount Google Drive\n",
        "from google.colab import drive\n",
        "drive.mount('/content/drive')\n",
        "\n",
        "# Set Folder to use...\n",
        "WORK_DIR = '/content/drive/MyDrive/CS 4V98 Shared Data'\n",
        "os.makedirs(WORK_DIR, exist_ok = True) "
      ],
      "metadata": {
        "id": "iPe0JeS86o2K"
      },
      "execution_count": null,
      "outputs": []
    }
  ]
}